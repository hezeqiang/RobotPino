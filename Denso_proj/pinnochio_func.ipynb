{
 "cells": [
  {
   "cell_type": "code",
   "execution_count": 2,
   "metadata": {},
   "outputs": [],
   "source": [
    "import pinocchio as pin\n",
    "import numpy as np"
   ]
  },
  {
   "cell_type": "code",
   "execution_count": null,
   "metadata": {},
   "outputs": [],
   "source": [
    "# create SE(3) transformation\n",
    "#  a 3x3 rotation matrix (Identity here)\n",
    "R = np.eye(3)\n",
    "\n",
    "# Define a translation vector\n",
    "p = np.array([1.0, 2.0, 3.0])\n",
    "\n",
    "# Create an SE(3) transformation\n",
    "T = pin.SE3(R, p)\n",
    "\n",
    "# or\n",
    "\n",
    "T = pin.SE3(np.array([[1, 0,  0, 0],\n",
    "                          [0, 0, -1, 0],\n",
    "                          [0, 1,  0, 3],\n",
    "                          [0, 0,  0, 1]]))\n",
    "\n",
    "xi = np.array([1.0, 2.0, 3.0, 1, 0, 1])"
   ]
  },
  {
   "cell_type": "code",
   "execution_count": null,
   "metadata": {},
   "outputs": [
    {
     "name": "stdout",
     "output_type": "stream",
     "text": [
      "  v =       0 2.35619 2.35619\n",
      "  w = 1.5708      0      0\n",
      "\n",
      "[[ 1.          0.          0.          0.         -0.85619449  1.5       ]\n",
      " [ 0.          0.78539816 -0.78539816  1.5         0.          0.        ]\n",
      " [ 0.          0.78539816  0.78539816 -0.85619449  0.          0.        ]\n",
      " [ 0.          0.          0.          1.          0.          0.        ]\n",
      " [ 0.          0.          0.          0.          0.78539816 -0.78539816]\n",
      " [ 0.          0.          0.          0.          0.78539816  0.78539816]]\n",
      "[[ 1.  0.  0.  0.]\n",
      " [ 0.  0. -1.  0.]\n",
      " [ 0.  1.  0.  3.]\n",
      " [ 0.  0.  0.  1.]]\n",
      "<bound method setIdentity of SE3(array([[ 1.,  0.,  0.,  0.],[ 0.,  0., -1.,  0.],[ 0.,  1.,  0.,  3.],[ 0.,  0.,  0.,  1.]]))>\n",
      "[1.57079633 0.         0.        ]\n",
      "[0.         2.35619449 2.35619449]\n"
     ]
    }
   ],
   "source": [
    "print(pin.log6(T)) # homo ->  [v, w]\n",
    "print(pin.Jlog6(T)) # homo -> 6 by 6 adj\n",
    "print(T.homogeneous) # homo\n",
    "pin.exp6(xi).homogeneous # [v, w] -> homo\n",
    "\n",
    "w = pin.log3(R) # rot  ->  w\n",
    "pin.exp3(w) # w  ->  rot\n",
    "\n",
    "# so(3) and se(3) can be derive by the w and v\n",
    "\n",
    "\n",
    "print(T.setIdentity)\n",
    "\n",
    "V = pin.log6(T)\n",
    "print(V.angular)\n",
    "print(V.linear)"
   ]
  },
  {
   "cell_type": "code",
   "execution_count": 28,
   "metadata": {},
   "outputs": [
    {
     "data": {
      "text/plain": [
       "array([-0.67925191, -1.35850382, -2.03775573])"
      ]
     },
     "execution_count": 28,
     "metadata": {},
     "output_type": "execute_result"
    }
   ],
   "source": [
    "def so3ToVec(so3mat):\n",
    "        \"\"\"Converts an so(3) representation to a 3-vector\n",
    "\n",
    "        :param so3mat: A 3x3 skew-symmetric matrix\n",
    "        :return: The 3-vector corresponding to so3mat\n",
    "\n",
    "        Example Input:\n",
    "            so3mat = np.array([[ 0, -3,  2],\n",
    "                               [ 3,  0, -1],\n",
    "                               [-2,  1,  0]])\n",
    "        Output:\n",
    "            np.array([1, 2, 3])\n",
    "        \"\"\"\n",
    "        return np.array([so3mat[2][1], so3mat[0][2], so3mat[1][0]])\n",
    "\n",
    "\n",
    "so3mat = np.array([[ 0, -3,  2],\n",
    "                    [ 3,  0, -1],\n",
    "                    [-2,  1,  0]])\n",
    "w = so3ToVec(so3mat)\n",
    "R = pin.exp3(w)\n",
    "\n",
    "\n",
    "pin.log3(R)"
   ]
  },
  {
   "cell_type": "code",
   "execution_count": null,
   "metadata": {},
   "outputs": [],
   "source": []
  }
 ],
 "metadata": {
  "kernelspec": {
   "display_name": "isaaclab1",
   "language": "python",
   "name": "python3"
  },
  "language_info": {
   "codemirror_mode": {
    "name": "ipython",
    "version": 3
   },
   "file_extension": ".py",
   "mimetype": "text/x-python",
   "name": "python",
   "nbconvert_exporter": "python",
   "pygments_lexer": "ipython3",
   "version": "3.10.16"
  }
 },
 "nbformat": 4,
 "nbformat_minor": 2
}
